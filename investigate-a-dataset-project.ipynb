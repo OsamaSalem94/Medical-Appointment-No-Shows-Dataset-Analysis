{
 "cells": [
  {
   "cell_type": "markdown",
   "metadata": {},
   "source": [
    "# Project: Medical Appointment No Shows Dataset Analysis\n",
    "\n",
    "## Table of Contents\n",
    "<ul>\n",
    "<li><a href=\"#intro\">Introduction</a></li>\n",
    "<li><a href=\"#wrangling\">Data Wrangling</a></li>\n",
    "<li><a href=\"#eda\">Exploratory Data Analysis</a></li>\n",
    "<li><a href=\"#conclusions\">Conclusions</a></li>\n",
    "</ul>\n",
    "\n",
    "<a id='intro'></a>\n",
    "## Introduction\n",
    "### \"A person makes a doctor appointment, receives all the instructions and no-show. Who to blame?\"\n",
    "### This dataset collects information from 100k medical appointments in Brazil and is focused on the question\n",
    "### of whether or not patients show up for their appointment.\n",
    "### The analysis is focused on finding factors predicting whether or not the patient will show up to thier appointment.\n"
   ]
  },
  {
   "cell_type": "code",
   "execution_count": 1,
   "metadata": {},
   "outputs": [],
   "source": [
    "import numpy as np\n",
    "import pandas as pd\n",
    "import matplotlib.pyplot as plt\n",
    "import seaborn as sns\n",
    "import csv\n",
    "%matplotlib inline"
   ]
  },
  {
   "cell_type": "markdown",
   "metadata": {},
   "source": [
    "<a id='wrangling'></a>\n",
    "## Data Wrangling\n",
    "\n",
    "> **Tip**: In this section of the report, you will load in the data, check for cleanliness, and then trim and clean your dataset for analysis. Make sure that you document your steps carefully and justify your cleaning decisions.\n",
    "\n",
    "### General Properties"
   ]
  },
  {
   "cell_type": "code",
   "execution_count": 2,
   "metadata": {},
   "outputs": [],
   "source": [
    "# Load your data and print out a few lines. Perform operations to inspect data\n",
    "#   types and look for instances of missing or possibly errant data.\n",
    "df = pd.read_csv('Medical_Appointment_No_Shows.csv')"
   ]
  },
  {
   "cell_type": "code",
   "execution_count": 4,
   "metadata": {},
   "outputs": [
    {
     "data": {
      "text/html": [
       "<div>\n",
       "<style scoped>\n",
       "    .dataframe tbody tr th:only-of-type {\n",
       "        vertical-align: middle;\n",
       "    }\n",
       "\n",
       "    .dataframe tbody tr th {\n",
       "        vertical-align: top;\n",
       "    }\n",
       "\n",
       "    .dataframe thead th {\n",
       "        text-align: right;\n",
       "    }\n",
       "</style>\n",
       "<table border=\"1\" class=\"dataframe\">\n",
       "  <thead>\n",
       "    <tr style=\"text-align: right;\">\n",
       "      <th></th>\n",
       "      <th>PatientId</th>\n",
       "      <th>AppointmentID</th>\n",
       "      <th>Gender</th>\n",
       "      <th>ScheduledDay</th>\n",
       "      <th>AppointmentDay</th>\n",
       "      <th>Age</th>\n",
       "      <th>Neighbourhood</th>\n",
       "      <th>Scholarship</th>\n",
       "      <th>Hipertension</th>\n",
       "      <th>Diabetes</th>\n",
       "      <th>Alcoholism</th>\n",
       "      <th>Handcap</th>\n",
       "      <th>SMS_received</th>\n",
       "      <th>No-show</th>\n",
       "    </tr>\n",
       "  </thead>\n",
       "  <tbody>\n",
       "    <tr>\n",
       "      <th>0</th>\n",
       "      <td>2.987250e+13</td>\n",
       "      <td>5642903</td>\n",
       "      <td>F</td>\n",
       "      <td>2016-04-29T18:38:08Z</td>\n",
       "      <td>2016-04-29T00:00:00Z</td>\n",
       "      <td>62</td>\n",
       "      <td>JARDIM DA PENHA</td>\n",
       "      <td>0</td>\n",
       "      <td>1</td>\n",
       "      <td>0</td>\n",
       "      <td>0</td>\n",
       "      <td>0</td>\n",
       "      <td>0</td>\n",
       "      <td>No</td>\n",
       "    </tr>\n",
       "    <tr>\n",
       "      <th>1</th>\n",
       "      <td>5.589978e+14</td>\n",
       "      <td>5642503</td>\n",
       "      <td>M</td>\n",
       "      <td>2016-04-29T16:08:27Z</td>\n",
       "      <td>2016-04-29T00:00:00Z</td>\n",
       "      <td>56</td>\n",
       "      <td>JARDIM DA PENHA</td>\n",
       "      <td>0</td>\n",
       "      <td>0</td>\n",
       "      <td>0</td>\n",
       "      <td>0</td>\n",
       "      <td>0</td>\n",
       "      <td>0</td>\n",
       "      <td>No</td>\n",
       "    </tr>\n",
       "    <tr>\n",
       "      <th>2</th>\n",
       "      <td>4.262962e+12</td>\n",
       "      <td>5642549</td>\n",
       "      <td>F</td>\n",
       "      <td>2016-04-29T16:19:04Z</td>\n",
       "      <td>2016-04-29T00:00:00Z</td>\n",
       "      <td>62</td>\n",
       "      <td>MATA DA PRAIA</td>\n",
       "      <td>0</td>\n",
       "      <td>0</td>\n",
       "      <td>0</td>\n",
       "      <td>0</td>\n",
       "      <td>0</td>\n",
       "      <td>0</td>\n",
       "      <td>No</td>\n",
       "    </tr>\n",
       "    <tr>\n",
       "      <th>3</th>\n",
       "      <td>8.679512e+11</td>\n",
       "      <td>5642828</td>\n",
       "      <td>F</td>\n",
       "      <td>2016-04-29T17:29:31Z</td>\n",
       "      <td>2016-04-29T00:00:00Z</td>\n",
       "      <td>8</td>\n",
       "      <td>PONTAL DE CAMBURI</td>\n",
       "      <td>0</td>\n",
       "      <td>0</td>\n",
       "      <td>0</td>\n",
       "      <td>0</td>\n",
       "      <td>0</td>\n",
       "      <td>0</td>\n",
       "      <td>No</td>\n",
       "    </tr>\n",
       "    <tr>\n",
       "      <th>4</th>\n",
       "      <td>8.841186e+12</td>\n",
       "      <td>5642494</td>\n",
       "      <td>F</td>\n",
       "      <td>2016-04-29T16:07:23Z</td>\n",
       "      <td>2016-04-29T00:00:00Z</td>\n",
       "      <td>56</td>\n",
       "      <td>JARDIM DA PENHA</td>\n",
       "      <td>0</td>\n",
       "      <td>1</td>\n",
       "      <td>1</td>\n",
       "      <td>0</td>\n",
       "      <td>0</td>\n",
       "      <td>0</td>\n",
       "      <td>No</td>\n",
       "    </tr>\n",
       "  </tbody>\n",
       "</table>\n",
       "</div>"
      ],
      "text/plain": [
       "      PatientId  AppointmentID Gender          ScheduledDay  \\\n",
       "0  2.987250e+13        5642903      F  2016-04-29T18:38:08Z   \n",
       "1  5.589978e+14        5642503      M  2016-04-29T16:08:27Z   \n",
       "2  4.262962e+12        5642549      F  2016-04-29T16:19:04Z   \n",
       "3  8.679512e+11        5642828      F  2016-04-29T17:29:31Z   \n",
       "4  8.841186e+12        5642494      F  2016-04-29T16:07:23Z   \n",
       "\n",
       "         AppointmentDay  Age      Neighbourhood  Scholarship  Hipertension  \\\n",
       "0  2016-04-29T00:00:00Z   62    JARDIM DA PENHA            0             1   \n",
       "1  2016-04-29T00:00:00Z   56    JARDIM DA PENHA            0             0   \n",
       "2  2016-04-29T00:00:00Z   62      MATA DA PRAIA            0             0   \n",
       "3  2016-04-29T00:00:00Z    8  PONTAL DE CAMBURI            0             0   \n",
       "4  2016-04-29T00:00:00Z   56    JARDIM DA PENHA            0             1   \n",
       "\n",
       "   Diabetes  Alcoholism  Handcap  SMS_received No-show  \n",
       "0         0           0        0             0      No  \n",
       "1         0           0        0             0      No  \n",
       "2         0           0        0             0      No  \n",
       "3         0           0        0             0      No  \n",
       "4         1           0        0             0      No  "
      ]
     },
     "execution_count": 4,
     "metadata": {},
     "output_type": "execute_result"
    }
   ],
   "source": [
    "df.head()"
   ]
  },
  {
   "cell_type": "code",
   "execution_count": 3,
   "metadata": {},
   "outputs": [
    {
     "name": "stdout",
     "output_type": "stream",
     "text": [
      "<class 'pandas.core.frame.DataFrame'>\n",
      "RangeIndex: 110527 entries, 0 to 110526\n",
      "Data columns (total 14 columns):\n",
      " #   Column          Non-Null Count   Dtype  \n",
      "---  ------          --------------   -----  \n",
      " 0   PatientId       110527 non-null  float64\n",
      " 1   AppointmentID   110527 non-null  int64  \n",
      " 2   Gender          110527 non-null  object \n",
      " 3   ScheduledDay    110527 non-null  object \n",
      " 4   AppointmentDay  110527 non-null  object \n",
      " 5   Age             110527 non-null  int64  \n",
      " 6   Neighbourhood   110527 non-null  object \n",
      " 7   Scholarship     110527 non-null  int64  \n",
      " 8   Hipertension    110527 non-null  int64  \n",
      " 9   Diabetes        110527 non-null  int64  \n",
      " 10  Alcoholism      110527 non-null  int64  \n",
      " 11  Handcap         110527 non-null  int64  \n",
      " 12  SMS_received    110527 non-null  int64  \n",
      " 13  No-show         110527 non-null  object \n",
      "dtypes: float64(1), int64(8), object(5)\n",
      "memory usage: 9.7+ MB\n"
     ]
    }
   ],
   "source": [
    "df.info()"
   ]
  },
  {
   "cell_type": "code",
   "execution_count": 5,
   "metadata": {},
   "outputs": [
    {
     "data": {
      "text/html": [
       "<div>\n",
       "<style scoped>\n",
       "    .dataframe tbody tr th:only-of-type {\n",
       "        vertical-align: middle;\n",
       "    }\n",
       "\n",
       "    .dataframe tbody tr th {\n",
       "        vertical-align: top;\n",
       "    }\n",
       "\n",
       "    .dataframe thead th {\n",
       "        text-align: right;\n",
       "    }\n",
       "</style>\n",
       "<table border=\"1\" class=\"dataframe\">\n",
       "  <thead>\n",
       "    <tr style=\"text-align: right;\">\n",
       "      <th></th>\n",
       "      <th>PatientId</th>\n",
       "      <th>AppointmentID</th>\n",
       "      <th>Gender</th>\n",
       "      <th>ScheduledDay</th>\n",
       "      <th>AppointmentDay</th>\n",
       "      <th>Age</th>\n",
       "      <th>Neighbourhood</th>\n",
       "      <th>Scholarship</th>\n",
       "      <th>Hipertension</th>\n",
       "      <th>Diabetes</th>\n",
       "      <th>Alcoholism</th>\n",
       "      <th>Handcap</th>\n",
       "      <th>SMS_received</th>\n",
       "      <th>No-show</th>\n",
       "    </tr>\n",
       "  </thead>\n",
       "  <tbody>\n",
       "    <tr>\n",
       "      <th>21353</th>\n",
       "      <td>9.593520e+13</td>\n",
       "      <td>5642284</td>\n",
       "      <td>M</td>\n",
       "      <td>2016-04-29T15:30:24Z</td>\n",
       "      <td>2016-05-03T00:00:00Z</td>\n",
       "      <td>58</td>\n",
       "      <td>MARIA ORTIZ</td>\n",
       "      <td>0</td>\n",
       "      <td>0</td>\n",
       "      <td>0</td>\n",
       "      <td>0</td>\n",
       "      <td>0</td>\n",
       "      <td>1</td>\n",
       "      <td>No</td>\n",
       "    </tr>\n",
       "    <tr>\n",
       "      <th>99296</th>\n",
       "      <td>3.533153e+12</td>\n",
       "      <td>5743668</td>\n",
       "      <td>F</td>\n",
       "      <td>2016-05-30T09:15:47Z</td>\n",
       "      <td>2016-06-06T00:00:00Z</td>\n",
       "      <td>62</td>\n",
       "      <td>BENTO FERREIRA</td>\n",
       "      <td>0</td>\n",
       "      <td>1</td>\n",
       "      <td>0</td>\n",
       "      <td>0</td>\n",
       "      <td>0</td>\n",
       "      <td>1</td>\n",
       "      <td>No</td>\n",
       "    </tr>\n",
       "    <tr>\n",
       "      <th>98729</th>\n",
       "      <td>5.351186e+13</td>\n",
       "      <td>5758001</td>\n",
       "      <td>F</td>\n",
       "      <td>2016-06-01T10:07:10Z</td>\n",
       "      <td>2016-06-01T00:00:00Z</td>\n",
       "      <td>22</td>\n",
       "      <td>MARIA ORTIZ</td>\n",
       "      <td>0</td>\n",
       "      <td>0</td>\n",
       "      <td>0</td>\n",
       "      <td>0</td>\n",
       "      <td>0</td>\n",
       "      <td>0</td>\n",
       "      <td>No</td>\n",
       "    </tr>\n",
       "    <tr>\n",
       "      <th>88848</th>\n",
       "      <td>2.493773e+13</td>\n",
       "      <td>5782957</td>\n",
       "      <td>F</td>\n",
       "      <td>2016-06-07T12:52:35Z</td>\n",
       "      <td>2016-06-07T00:00:00Z</td>\n",
       "      <td>34</td>\n",
       "      <td>MÁRIO CYPRESTE</td>\n",
       "      <td>0</td>\n",
       "      <td>0</td>\n",
       "      <td>0</td>\n",
       "      <td>0</td>\n",
       "      <td>0</td>\n",
       "      <td>0</td>\n",
       "      <td>No</td>\n",
       "    </tr>\n",
       "    <tr>\n",
       "      <th>72125</th>\n",
       "      <td>6.938581e+11</td>\n",
       "      <td>5694355</td>\n",
       "      <td>F</td>\n",
       "      <td>2016-05-13T08:33:51Z</td>\n",
       "      <td>2016-05-17T00:00:00Z</td>\n",
       "      <td>65</td>\n",
       "      <td>MARIA ORTIZ</td>\n",
       "      <td>0</td>\n",
       "      <td>0</td>\n",
       "      <td>0</td>\n",
       "      <td>0</td>\n",
       "      <td>0</td>\n",
       "      <td>0</td>\n",
       "      <td>No</td>\n",
       "    </tr>\n",
       "    <tr>\n",
       "      <th>13659</th>\n",
       "      <td>8.362914e+12</td>\n",
       "      <td>5713282</td>\n",
       "      <td>F</td>\n",
       "      <td>2016-05-18T09:56:29Z</td>\n",
       "      <td>2016-05-18T00:00:00Z</td>\n",
       "      <td>13</td>\n",
       "      <td>FORTE SÃO JOÃO</td>\n",
       "      <td>0</td>\n",
       "      <td>0</td>\n",
       "      <td>0</td>\n",
       "      <td>0</td>\n",
       "      <td>0</td>\n",
       "      <td>0</td>\n",
       "      <td>No</td>\n",
       "    </tr>\n",
       "    <tr>\n",
       "      <th>4644</th>\n",
       "      <td>8.556158e+14</td>\n",
       "      <td>5704999</td>\n",
       "      <td>F</td>\n",
       "      <td>2016-05-16T17:20:37Z</td>\n",
       "      <td>2016-05-25T00:00:00Z</td>\n",
       "      <td>59</td>\n",
       "      <td>SÃO CRISTÓVÃO</td>\n",
       "      <td>0</td>\n",
       "      <td>1</td>\n",
       "      <td>0</td>\n",
       "      <td>0</td>\n",
       "      <td>0</td>\n",
       "      <td>1</td>\n",
       "      <td>No</td>\n",
       "    </tr>\n",
       "    <tr>\n",
       "      <th>65600</th>\n",
       "      <td>9.722835e+11</td>\n",
       "      <td>5604254</td>\n",
       "      <td>F</td>\n",
       "      <td>2016-04-20T07:48:45Z</td>\n",
       "      <td>2016-05-02T00:00:00Z</td>\n",
       "      <td>1</td>\n",
       "      <td>CONSOLAÇÃO</td>\n",
       "      <td>0</td>\n",
       "      <td>0</td>\n",
       "      <td>0</td>\n",
       "      <td>0</td>\n",
       "      <td>0</td>\n",
       "      <td>1</td>\n",
       "      <td>No</td>\n",
       "    </tr>\n",
       "    <tr>\n",
       "      <th>92529</th>\n",
       "      <td>4.177641e+12</td>\n",
       "      <td>5753441</td>\n",
       "      <td>M</td>\n",
       "      <td>2016-05-31T14:05:28Z</td>\n",
       "      <td>2016-06-03T00:00:00Z</td>\n",
       "      <td>71</td>\n",
       "      <td>JARDIM CAMBURI</td>\n",
       "      <td>0</td>\n",
       "      <td>0</td>\n",
       "      <td>0</td>\n",
       "      <td>0</td>\n",
       "      <td>0</td>\n",
       "      <td>1</td>\n",
       "      <td>No</td>\n",
       "    </tr>\n",
       "    <tr>\n",
       "      <th>18620</th>\n",
       "      <td>8.599912e+13</td>\n",
       "      <td>5738974</td>\n",
       "      <td>F</td>\n",
       "      <td>2016-05-25T12:06:41Z</td>\n",
       "      <td>2016-05-25T00:00:00Z</td>\n",
       "      <td>19</td>\n",
       "      <td>MARIA ORTIZ</td>\n",
       "      <td>0</td>\n",
       "      <td>0</td>\n",
       "      <td>0</td>\n",
       "      <td>0</td>\n",
       "      <td>0</td>\n",
       "      <td>0</td>\n",
       "      <td>No</td>\n",
       "    </tr>\n",
       "  </tbody>\n",
       "</table>\n",
       "</div>"
      ],
      "text/plain": [
       "          PatientId  AppointmentID Gender          ScheduledDay  \\\n",
       "21353  9.593520e+13        5642284      M  2016-04-29T15:30:24Z   \n",
       "99296  3.533153e+12        5743668      F  2016-05-30T09:15:47Z   \n",
       "98729  5.351186e+13        5758001      F  2016-06-01T10:07:10Z   \n",
       "88848  2.493773e+13        5782957      F  2016-06-07T12:52:35Z   \n",
       "72125  6.938581e+11        5694355      F  2016-05-13T08:33:51Z   \n",
       "13659  8.362914e+12        5713282      F  2016-05-18T09:56:29Z   \n",
       "4644   8.556158e+14        5704999      F  2016-05-16T17:20:37Z   \n",
       "65600  9.722835e+11        5604254      F  2016-04-20T07:48:45Z   \n",
       "92529  4.177641e+12        5753441      M  2016-05-31T14:05:28Z   \n",
       "18620  8.599912e+13        5738974      F  2016-05-25T12:06:41Z   \n",
       "\n",
       "             AppointmentDay  Age   Neighbourhood  Scholarship  Hipertension  \\\n",
       "21353  2016-05-03T00:00:00Z   58     MARIA ORTIZ            0             0   \n",
       "99296  2016-06-06T00:00:00Z   62  BENTO FERREIRA            0             1   \n",
       "98729  2016-06-01T00:00:00Z   22     MARIA ORTIZ            0             0   \n",
       "88848  2016-06-07T00:00:00Z   34  MÁRIO CYPRESTE            0             0   \n",
       "72125  2016-05-17T00:00:00Z   65     MARIA ORTIZ            0             0   \n",
       "13659  2016-05-18T00:00:00Z   13  FORTE SÃO JOÃO            0             0   \n",
       "4644   2016-05-25T00:00:00Z   59   SÃO CRISTÓVÃO            0             1   \n",
       "65600  2016-05-02T00:00:00Z    1      CONSOLAÇÃO            0             0   \n",
       "92529  2016-06-03T00:00:00Z   71  JARDIM CAMBURI            0             0   \n",
       "18620  2016-05-25T00:00:00Z   19     MARIA ORTIZ            0             0   \n",
       "\n",
       "       Diabetes  Alcoholism  Handcap  SMS_received No-show  \n",
       "21353         0           0        0             1      No  \n",
       "99296         0           0        0             1      No  \n",
       "98729         0           0        0             0      No  \n",
       "88848         0           0        0             0      No  \n",
       "72125         0           0        0             0      No  \n",
       "13659         0           0        0             0      No  \n",
       "4644          0           0        0             1      No  \n",
       "65600         0           0        0             1      No  \n",
       "92529         0           0        0             1      No  \n",
       "18620         0           0        0             0      No  "
      ]
     },
     "execution_count": 5,
     "metadata": {},
     "output_type": "execute_result"
    }
   ],
   "source": [
    "df.sample(10)"
   ]
  },
  {
   "cell_type": "code",
   "execution_count": null,
   "metadata": {},
   "outputs": [],
   "source": []
  },
  {
   "cell_type": "markdown",
   "metadata": {},
   "source": [
    "> **Tip**: You should _not_ perform too many operations in each cell. Create cells freely to explore your data. One option that you can take with this project is to do a lot of explorations in an initial notebook. These don't have to be organized, but make sure you use enough comments to understand the purpose of each code cell. Then, after you're done with your analysis, create a duplicate notebook where you will trim the excess and organize your steps so that you have a flowing, cohesive report.\n",
    "\n",
    "> **Tip**: Make sure that you keep your reader informed on the steps that you are taking in your investigation. Follow every code cell, or every set of related code cells, with a markdown cell to describe to the reader what was found in the preceding cell(s). Try to make it so that the reader can then understand what they will be seeing in the following cell(s).\n",
    "\n",
    "### Data Cleaning \n",
    "    ### Quality:\n",
    "        - Erroneous datatype for PatientID.\n",
    "        - Erroneous datatype for Gender\n",
    "        - Erroneous datatype for ScheduledDay.\n",
    "        - Erroneous datatype for AppointmentDay\n",
    "   \n",
    "        "
   ]
  },
  {
   "cell_type": "code",
   "execution_count": 6,
   "metadata": {},
   "outputs": [],
   "source": [
    "df['ScheduledDay'] = pd.to_datetime(df['ScheduledDay'])"
   ]
  },
  {
   "cell_type": "code",
   "execution_count": 7,
   "metadata": {},
   "outputs": [],
   "source": [
    "df['AppointmentDay'] = pd.to_datetime(df['AppointmentDay'])"
   ]
  },
  {
   "cell_type": "code",
   "execution_count": 8,
   "metadata": {},
   "outputs": [],
   "source": [
    "df['PatientId'] = df['PatientId'].astype(np.int64)"
   ]
  },
  {
   "cell_type": "code",
   "execution_count": 9,
   "metadata": {},
   "outputs": [],
   "source": [
    "df['Gender'] = df['Gender'].astype('category')"
   ]
  },
  {
   "cell_type": "code",
   "execution_count": 10,
   "metadata": {},
   "outputs": [
    {
     "name": "stdout",
     "output_type": "stream",
     "text": [
      "<class 'pandas.core.frame.DataFrame'>\n",
      "RangeIndex: 110527 entries, 0 to 110526\n",
      "Data columns (total 14 columns):\n",
      " #   Column          Non-Null Count   Dtype              \n",
      "---  ------          --------------   -----              \n",
      " 0   PatientId       110527 non-null  int64              \n",
      " 1   AppointmentID   110527 non-null  int64              \n",
      " 2   Gender          110527 non-null  category           \n",
      " 3   ScheduledDay    110527 non-null  datetime64[ns, UTC]\n",
      " 4   AppointmentDay  110527 non-null  datetime64[ns, UTC]\n",
      " 5   Age             110527 non-null  int64              \n",
      " 6   Neighbourhood   110527 non-null  object             \n",
      " 7   Scholarship     110527 non-null  int64              \n",
      " 8   Hipertension    110527 non-null  int64              \n",
      " 9   Diabetes        110527 non-null  int64              \n",
      " 10  Alcoholism      110527 non-null  int64              \n",
      " 11  Handcap         110527 non-null  int64              \n",
      " 12  SMS_received    110527 non-null  int64              \n",
      " 13  No-show         110527 non-null  object             \n",
      "dtypes: category(1), datetime64[ns, UTC](2), int64(9), object(2)\n",
      "memory usage: 10.2+ MB\n"
     ]
    }
   ],
   "source": [
    "df.info()"
   ]
  },
  {
   "cell_type": "code",
   "execution_count": 11,
   "metadata": {},
   "outputs": [
    {
     "data": {
      "text/html": [
       "<div>\n",
       "<style scoped>\n",
       "    .dataframe tbody tr th:only-of-type {\n",
       "        vertical-align: middle;\n",
       "    }\n",
       "\n",
       "    .dataframe tbody tr th {\n",
       "        vertical-align: top;\n",
       "    }\n",
       "\n",
       "    .dataframe thead th {\n",
       "        text-align: right;\n",
       "    }\n",
       "</style>\n",
       "<table border=\"1\" class=\"dataframe\">\n",
       "  <thead>\n",
       "    <tr style=\"text-align: right;\">\n",
       "      <th></th>\n",
       "      <th>PatientId</th>\n",
       "      <th>AppointmentID</th>\n",
       "      <th>Gender</th>\n",
       "      <th>ScheduledDay</th>\n",
       "      <th>AppointmentDay</th>\n",
       "      <th>Age</th>\n",
       "      <th>Neighbourhood</th>\n",
       "      <th>Scholarship</th>\n",
       "      <th>Hipertension</th>\n",
       "      <th>Diabetes</th>\n",
       "      <th>Alcoholism</th>\n",
       "      <th>Handcap</th>\n",
       "      <th>SMS_received</th>\n",
       "      <th>No-show</th>\n",
       "    </tr>\n",
       "  </thead>\n",
       "  <tbody>\n",
       "    <tr>\n",
       "      <th>0</th>\n",
       "      <td>29872499824296</td>\n",
       "      <td>5642903</td>\n",
       "      <td>F</td>\n",
       "      <td>2016-04-29 18:38:08+00:00</td>\n",
       "      <td>2016-04-29 00:00:00+00:00</td>\n",
       "      <td>62</td>\n",
       "      <td>JARDIM DA PENHA</td>\n",
       "      <td>0</td>\n",
       "      <td>1</td>\n",
       "      <td>0</td>\n",
       "      <td>0</td>\n",
       "      <td>0</td>\n",
       "      <td>0</td>\n",
       "      <td>No</td>\n",
       "    </tr>\n",
       "    <tr>\n",
       "      <th>1</th>\n",
       "      <td>558997776694438</td>\n",
       "      <td>5642503</td>\n",
       "      <td>M</td>\n",
       "      <td>2016-04-29 16:08:27+00:00</td>\n",
       "      <td>2016-04-29 00:00:00+00:00</td>\n",
       "      <td>56</td>\n",
       "      <td>JARDIM DA PENHA</td>\n",
       "      <td>0</td>\n",
       "      <td>0</td>\n",
       "      <td>0</td>\n",
       "      <td>0</td>\n",
       "      <td>0</td>\n",
       "      <td>0</td>\n",
       "      <td>No</td>\n",
       "    </tr>\n",
       "    <tr>\n",
       "      <th>2</th>\n",
       "      <td>4262962299951</td>\n",
       "      <td>5642549</td>\n",
       "      <td>F</td>\n",
       "      <td>2016-04-29 16:19:04+00:00</td>\n",
       "      <td>2016-04-29 00:00:00+00:00</td>\n",
       "      <td>62</td>\n",
       "      <td>MATA DA PRAIA</td>\n",
       "      <td>0</td>\n",
       "      <td>0</td>\n",
       "      <td>0</td>\n",
       "      <td>0</td>\n",
       "      <td>0</td>\n",
       "      <td>0</td>\n",
       "      <td>No</td>\n",
       "    </tr>\n",
       "    <tr>\n",
       "      <th>3</th>\n",
       "      <td>867951213174</td>\n",
       "      <td>5642828</td>\n",
       "      <td>F</td>\n",
       "      <td>2016-04-29 17:29:31+00:00</td>\n",
       "      <td>2016-04-29 00:00:00+00:00</td>\n",
       "      <td>8</td>\n",
       "      <td>PONTAL DE CAMBURI</td>\n",
       "      <td>0</td>\n",
       "      <td>0</td>\n",
       "      <td>0</td>\n",
       "      <td>0</td>\n",
       "      <td>0</td>\n",
       "      <td>0</td>\n",
       "      <td>No</td>\n",
       "    </tr>\n",
       "    <tr>\n",
       "      <th>4</th>\n",
       "      <td>8841186448183</td>\n",
       "      <td>5642494</td>\n",
       "      <td>F</td>\n",
       "      <td>2016-04-29 16:07:23+00:00</td>\n",
       "      <td>2016-04-29 00:00:00+00:00</td>\n",
       "      <td>56</td>\n",
       "      <td>JARDIM DA PENHA</td>\n",
       "      <td>0</td>\n",
       "      <td>1</td>\n",
       "      <td>1</td>\n",
       "      <td>0</td>\n",
       "      <td>0</td>\n",
       "      <td>0</td>\n",
       "      <td>No</td>\n",
       "    </tr>\n",
       "    <tr>\n",
       "      <th>5</th>\n",
       "      <td>95985133231274</td>\n",
       "      <td>5626772</td>\n",
       "      <td>F</td>\n",
       "      <td>2016-04-27 08:36:51+00:00</td>\n",
       "      <td>2016-04-29 00:00:00+00:00</td>\n",
       "      <td>76</td>\n",
       "      <td>REPÚBLICA</td>\n",
       "      <td>0</td>\n",
       "      <td>1</td>\n",
       "      <td>0</td>\n",
       "      <td>0</td>\n",
       "      <td>0</td>\n",
       "      <td>0</td>\n",
       "      <td>No</td>\n",
       "    </tr>\n",
       "    <tr>\n",
       "      <th>6</th>\n",
       "      <td>733688164476661</td>\n",
       "      <td>5630279</td>\n",
       "      <td>F</td>\n",
       "      <td>2016-04-27 15:05:12+00:00</td>\n",
       "      <td>2016-04-29 00:00:00+00:00</td>\n",
       "      <td>23</td>\n",
       "      <td>GOIABEIRAS</td>\n",
       "      <td>0</td>\n",
       "      <td>0</td>\n",
       "      <td>0</td>\n",
       "      <td>0</td>\n",
       "      <td>0</td>\n",
       "      <td>0</td>\n",
       "      <td>Yes</td>\n",
       "    </tr>\n",
       "  </tbody>\n",
       "</table>\n",
       "</div>"
      ],
      "text/plain": [
       "         PatientId  AppointmentID Gender              ScheduledDay  \\\n",
       "0   29872499824296        5642903      F 2016-04-29 18:38:08+00:00   \n",
       "1  558997776694438        5642503      M 2016-04-29 16:08:27+00:00   \n",
       "2    4262962299951        5642549      F 2016-04-29 16:19:04+00:00   \n",
       "3     867951213174        5642828      F 2016-04-29 17:29:31+00:00   \n",
       "4    8841186448183        5642494      F 2016-04-29 16:07:23+00:00   \n",
       "5   95985133231274        5626772      F 2016-04-27 08:36:51+00:00   \n",
       "6  733688164476661        5630279      F 2016-04-27 15:05:12+00:00   \n",
       "\n",
       "             AppointmentDay  Age      Neighbourhood  Scholarship  \\\n",
       "0 2016-04-29 00:00:00+00:00   62    JARDIM DA PENHA            0   \n",
       "1 2016-04-29 00:00:00+00:00   56    JARDIM DA PENHA            0   \n",
       "2 2016-04-29 00:00:00+00:00   62      MATA DA PRAIA            0   \n",
       "3 2016-04-29 00:00:00+00:00    8  PONTAL DE CAMBURI            0   \n",
       "4 2016-04-29 00:00:00+00:00   56    JARDIM DA PENHA            0   \n",
       "5 2016-04-29 00:00:00+00:00   76          REPÚBLICA            0   \n",
       "6 2016-04-29 00:00:00+00:00   23         GOIABEIRAS            0   \n",
       "\n",
       "   Hipertension  Diabetes  Alcoholism  Handcap  SMS_received No-show  \n",
       "0             1         0           0        0             0      No  \n",
       "1             0         0           0        0             0      No  \n",
       "2             0         0           0        0             0      No  \n",
       "3             0         0           0        0             0      No  \n",
       "4             1         1           0        0             0      No  \n",
       "5             1         0           0        0             0      No  \n",
       "6             0         0           0        0             0     Yes  "
      ]
     },
     "execution_count": 11,
     "metadata": {},
     "output_type": "execute_result"
    }
   ],
   "source": [
    "df.head(7)"
   ]
  },
  {
   "cell_type": "markdown",
   "metadata": {},
   "source": [
    "### Changing the encoding of the No-show column"
   ]
  },
  {
   "cell_type": "code",
   "execution_count": 11,
   "metadata": {},
   "outputs": [],
   "source": [
    "df['No-show'].replace('No','1', inplace = True)"
   ]
  },
  {
   "cell_type": "code",
   "execution_count": 12,
   "metadata": {},
   "outputs": [],
   "source": [
    "df['No-show'].replace('Yes','0', inplace = True)"
   ]
  },
  {
   "cell_type": "code",
   "execution_count": 13,
   "metadata": {},
   "outputs": [],
   "source": [
    "df.rename(columns={'No-show':'Show'}, inplace = True)"
   ]
  },
  {
   "cell_type": "code",
   "execution_count": 14,
   "metadata": {},
   "outputs": [
    {
     "data": {
      "text/html": [
       "<div>\n",
       "<style scoped>\n",
       "    .dataframe tbody tr th:only-of-type {\n",
       "        vertical-align: middle;\n",
       "    }\n",
       "\n",
       "    .dataframe tbody tr th {\n",
       "        vertical-align: top;\n",
       "    }\n",
       "\n",
       "    .dataframe thead th {\n",
       "        text-align: right;\n",
       "    }\n",
       "</style>\n",
       "<table border=\"1\" class=\"dataframe\">\n",
       "  <thead>\n",
       "    <tr style=\"text-align: right;\">\n",
       "      <th></th>\n",
       "      <th>PatientId</th>\n",
       "      <th>AppointmentID</th>\n",
       "      <th>Gender</th>\n",
       "      <th>ScheduledDay</th>\n",
       "      <th>AppointmentDay</th>\n",
       "      <th>Age</th>\n",
       "      <th>Neighbourhood</th>\n",
       "      <th>Scholarship</th>\n",
       "      <th>Hipertension</th>\n",
       "      <th>Diabetes</th>\n",
       "      <th>Alcoholism</th>\n",
       "      <th>Handcap</th>\n",
       "      <th>SMS_received</th>\n",
       "      <th>Show</th>\n",
       "    </tr>\n",
       "  </thead>\n",
       "  <tbody>\n",
       "    <tr>\n",
       "      <th>11094</th>\n",
       "      <td>5729293421352</td>\n",
       "      <td>5689855</td>\n",
       "      <td>F</td>\n",
       "      <td>2016-05-12 09:07:21+00:00</td>\n",
       "      <td>2016-05-30 00:00:00+00:00</td>\n",
       "      <td>25</td>\n",
       "      <td>RESISTÊNCIA</td>\n",
       "      <td>1</td>\n",
       "      <td>0</td>\n",
       "      <td>0</td>\n",
       "      <td>0</td>\n",
       "      <td>0</td>\n",
       "      <td>1</td>\n",
       "      <td>0</td>\n",
       "    </tr>\n",
       "    <tr>\n",
       "      <th>10127</th>\n",
       "      <td>1151925176216</td>\n",
       "      <td>5705030</td>\n",
       "      <td>F</td>\n",
       "      <td>2016-05-16 17:31:14+00:00</td>\n",
       "      <td>2016-05-19 00:00:00+00:00</td>\n",
       "      <td>81</td>\n",
       "      <td>CRUZAMENTO</td>\n",
       "      <td>0</td>\n",
       "      <td>1</td>\n",
       "      <td>0</td>\n",
       "      <td>0</td>\n",
       "      <td>0</td>\n",
       "      <td>0</td>\n",
       "      <td>1</td>\n",
       "    </tr>\n",
       "    <tr>\n",
       "      <th>37397</th>\n",
       "      <td>927641864538845</td>\n",
       "      <td>5662021</td>\n",
       "      <td>F</td>\n",
       "      <td>2016-05-05 08:00:55+00:00</td>\n",
       "      <td>2016-05-05 00:00:00+00:00</td>\n",
       "      <td>0</td>\n",
       "      <td>ROMÃO</td>\n",
       "      <td>0</td>\n",
       "      <td>0</td>\n",
       "      <td>0</td>\n",
       "      <td>0</td>\n",
       "      <td>0</td>\n",
       "      <td>0</td>\n",
       "      <td>1</td>\n",
       "    </tr>\n",
       "    <tr>\n",
       "      <th>39809</th>\n",
       "      <td>53131563221741</td>\n",
       "      <td>5737861</td>\n",
       "      <td>F</td>\n",
       "      <td>2016-05-25 10:08:50+00:00</td>\n",
       "      <td>2016-05-25 00:00:00+00:00</td>\n",
       "      <td>9</td>\n",
       "      <td>JABOUR</td>\n",
       "      <td>0</td>\n",
       "      <td>0</td>\n",
       "      <td>0</td>\n",
       "      <td>0</td>\n",
       "      <td>0</td>\n",
       "      <td>0</td>\n",
       "      <td>0</td>\n",
       "    </tr>\n",
       "    <tr>\n",
       "      <th>83237</th>\n",
       "      <td>937916612972</td>\n",
       "      <td>5591330</td>\n",
       "      <td>F</td>\n",
       "      <td>2016-04-15 16:38:52+00:00</td>\n",
       "      <td>2016-05-03 00:00:00+00:00</td>\n",
       "      <td>19</td>\n",
       "      <td>ITARARÉ</td>\n",
       "      <td>0</td>\n",
       "      <td>0</td>\n",
       "      <td>0</td>\n",
       "      <td>0</td>\n",
       "      <td>0</td>\n",
       "      <td>1</td>\n",
       "      <td>1</td>\n",
       "    </tr>\n",
       "    <tr>\n",
       "      <th>12956</th>\n",
       "      <td>84632516348559</td>\n",
       "      <td>5690799</td>\n",
       "      <td>F</td>\n",
       "      <td>2016-05-12 10:41:36+00:00</td>\n",
       "      <td>2016-05-18 00:00:00+00:00</td>\n",
       "      <td>34</td>\n",
       "      <td>ILHA DE SANTA MARIA</td>\n",
       "      <td>0</td>\n",
       "      <td>0</td>\n",
       "      <td>0</td>\n",
       "      <td>0</td>\n",
       "      <td>0</td>\n",
       "      <td>0</td>\n",
       "      <td>1</td>\n",
       "    </tr>\n",
       "    <tr>\n",
       "      <th>86708</th>\n",
       "      <td>61895293545899</td>\n",
       "      <td>5748590</td>\n",
       "      <td>M</td>\n",
       "      <td>2016-05-31 07:09:52+00:00</td>\n",
       "      <td>2016-06-06 00:00:00+00:00</td>\n",
       "      <td>54</td>\n",
       "      <td>DA PENHA</td>\n",
       "      <td>0</td>\n",
       "      <td>0</td>\n",
       "      <td>0</td>\n",
       "      <td>0</td>\n",
       "      <td>0</td>\n",
       "      <td>1</td>\n",
       "      <td>1</td>\n",
       "    </tr>\n",
       "    <tr>\n",
       "      <th>93243</th>\n",
       "      <td>66112933474331</td>\n",
       "      <td>5771106</td>\n",
       "      <td>F</td>\n",
       "      <td>2016-06-03 11:33:10+00:00</td>\n",
       "      <td>2016-06-03 00:00:00+00:00</td>\n",
       "      <td>3</td>\n",
       "      <td>SÃO JOSÉ</td>\n",
       "      <td>0</td>\n",
       "      <td>0</td>\n",
       "      <td>0</td>\n",
       "      <td>0</td>\n",
       "      <td>0</td>\n",
       "      <td>0</td>\n",
       "      <td>1</td>\n",
       "    </tr>\n",
       "    <tr>\n",
       "      <th>80393</th>\n",
       "      <td>976857628423</td>\n",
       "      <td>5732296</td>\n",
       "      <td>M</td>\n",
       "      <td>2016-05-24 11:17:08+00:00</td>\n",
       "      <td>2016-05-30 00:00:00+00:00</td>\n",
       "      <td>44</td>\n",
       "      <td>SANTO ANDRÉ</td>\n",
       "      <td>0</td>\n",
       "      <td>1</td>\n",
       "      <td>0</td>\n",
       "      <td>0</td>\n",
       "      <td>0</td>\n",
       "      <td>1</td>\n",
       "      <td>1</td>\n",
       "    </tr>\n",
       "    <tr>\n",
       "      <th>17412</th>\n",
       "      <td>143861688869361</td>\n",
       "      <td>5722009</td>\n",
       "      <td>M</td>\n",
       "      <td>2016-05-20 06:59:04+00:00</td>\n",
       "      <td>2016-05-30 00:00:00+00:00</td>\n",
       "      <td>8</td>\n",
       "      <td>SANTO ANDRÉ</td>\n",
       "      <td>0</td>\n",
       "      <td>0</td>\n",
       "      <td>0</td>\n",
       "      <td>0</td>\n",
       "      <td>0</td>\n",
       "      <td>0</td>\n",
       "      <td>0</td>\n",
       "    </tr>\n",
       "    <tr>\n",
       "      <th>90755</th>\n",
       "      <td>3926526611816</td>\n",
       "      <td>5787609</td>\n",
       "      <td>F</td>\n",
       "      <td>2016-06-08 10:15:35+00:00</td>\n",
       "      <td>2016-06-08 00:00:00+00:00</td>\n",
       "      <td>51</td>\n",
       "      <td>JARDIM DA PENHA</td>\n",
       "      <td>0</td>\n",
       "      <td>1</td>\n",
       "      <td>0</td>\n",
       "      <td>0</td>\n",
       "      <td>0</td>\n",
       "      <td>0</td>\n",
       "      <td>1</td>\n",
       "    </tr>\n",
       "    <tr>\n",
       "      <th>53434</th>\n",
       "      <td>48324575874555</td>\n",
       "      <td>5670640</td>\n",
       "      <td>M</td>\n",
       "      <td>2016-05-06 14:19:12+00:00</td>\n",
       "      <td>2016-05-06 00:00:00+00:00</td>\n",
       "      <td>15</td>\n",
       "      <td>JARDIM CAMBURI</td>\n",
       "      <td>0</td>\n",
       "      <td>0</td>\n",
       "      <td>0</td>\n",
       "      <td>0</td>\n",
       "      <td>0</td>\n",
       "      <td>0</td>\n",
       "      <td>0</td>\n",
       "    </tr>\n",
       "    <tr>\n",
       "      <th>26919</th>\n",
       "      <td>125181516319148</td>\n",
       "      <td>5750928</td>\n",
       "      <td>F</td>\n",
       "      <td>2016-05-31 09:29:27+00:00</td>\n",
       "      <td>2016-05-31 00:00:00+00:00</td>\n",
       "      <td>41</td>\n",
       "      <td>FORTE SÃO JOÃO</td>\n",
       "      <td>0</td>\n",
       "      <td>0</td>\n",
       "      <td>0</td>\n",
       "      <td>0</td>\n",
       "      <td>0</td>\n",
       "      <td>0</td>\n",
       "      <td>1</td>\n",
       "    </tr>\n",
       "    <tr>\n",
       "      <th>47559</th>\n",
       "      <td>13485728741465</td>\n",
       "      <td>5625340</td>\n",
       "      <td>M</td>\n",
       "      <td>2016-04-27 07:08:52+00:00</td>\n",
       "      <td>2016-05-09 00:00:00+00:00</td>\n",
       "      <td>71</td>\n",
       "      <td>DE LOURDES</td>\n",
       "      <td>0</td>\n",
       "      <td>0</td>\n",
       "      <td>0</td>\n",
       "      <td>0</td>\n",
       "      <td>0</td>\n",
       "      <td>0</td>\n",
       "      <td>1</td>\n",
       "    </tr>\n",
       "    <tr>\n",
       "      <th>30927</th>\n",
       "      <td>24499889979657</td>\n",
       "      <td>5681320</td>\n",
       "      <td>M</td>\n",
       "      <td>2016-05-10 14:04:47+00:00</td>\n",
       "      <td>2016-05-25 00:00:00+00:00</td>\n",
       "      <td>67</td>\n",
       "      <td>SANTA CLARA</td>\n",
       "      <td>0</td>\n",
       "      <td>1</td>\n",
       "      <td>1</td>\n",
       "      <td>0</td>\n",
       "      <td>0</td>\n",
       "      <td>0</td>\n",
       "      <td>0</td>\n",
       "    </tr>\n",
       "    <tr>\n",
       "      <th>50074</th>\n",
       "      <td>318316994292</td>\n",
       "      <td>5674162</td>\n",
       "      <td>F</td>\n",
       "      <td>2016-05-09 10:31:26+00:00</td>\n",
       "      <td>2016-05-09 00:00:00+00:00</td>\n",
       "      <td>19</td>\n",
       "      <td>JARDIM DA PENHA</td>\n",
       "      <td>0</td>\n",
       "      <td>0</td>\n",
       "      <td>0</td>\n",
       "      <td>0</td>\n",
       "      <td>0</td>\n",
       "      <td>0</td>\n",
       "      <td>1</td>\n",
       "    </tr>\n",
       "    <tr>\n",
       "      <th>106907</th>\n",
       "      <td>1131772254775</td>\n",
       "      <td>5716403</td>\n",
       "      <td>M</td>\n",
       "      <td>2016-05-18 16:51:19+00:00</td>\n",
       "      <td>2016-06-02 00:00:00+00:00</td>\n",
       "      <td>33</td>\n",
       "      <td>BONFIM</td>\n",
       "      <td>0</td>\n",
       "      <td>0</td>\n",
       "      <td>0</td>\n",
       "      <td>0</td>\n",
       "      <td>0</td>\n",
       "      <td>1</td>\n",
       "      <td>0</td>\n",
       "    </tr>\n",
       "    <tr>\n",
       "      <th>98073</th>\n",
       "      <td>614343448988718</td>\n",
       "      <td>5753822</td>\n",
       "      <td>F</td>\n",
       "      <td>2016-05-31 14:52:55+00:00</td>\n",
       "      <td>2016-06-07 00:00:00+00:00</td>\n",
       "      <td>7</td>\n",
       "      <td>BENTO FERREIRA</td>\n",
       "      <td>0</td>\n",
       "      <td>0</td>\n",
       "      <td>0</td>\n",
       "      <td>0</td>\n",
       "      <td>0</td>\n",
       "      <td>1</td>\n",
       "      <td>1</td>\n",
       "    </tr>\n",
       "    <tr>\n",
       "      <th>44323</th>\n",
       "      <td>299778815147872</td>\n",
       "      <td>5482966</td>\n",
       "      <td>M</td>\n",
       "      <td>2016-03-17 10:35:31+00:00</td>\n",
       "      <td>2016-05-13 00:00:00+00:00</td>\n",
       "      <td>23</td>\n",
       "      <td>JARDIM CAMBURI</td>\n",
       "      <td>0</td>\n",
       "      <td>0</td>\n",
       "      <td>0</td>\n",
       "      <td>0</td>\n",
       "      <td>0</td>\n",
       "      <td>0</td>\n",
       "      <td>1</td>\n",
       "    </tr>\n",
       "    <tr>\n",
       "      <th>101176</th>\n",
       "      <td>42243679566661</td>\n",
       "      <td>5746175</td>\n",
       "      <td>M</td>\n",
       "      <td>2016-05-30 13:33:20+00:00</td>\n",
       "      <td>2016-06-07 00:00:00+00:00</td>\n",
       "      <td>36</td>\n",
       "      <td>ITARARÉ</td>\n",
       "      <td>0</td>\n",
       "      <td>0</td>\n",
       "      <td>0</td>\n",
       "      <td>1</td>\n",
       "      <td>0</td>\n",
       "      <td>1</td>\n",
       "      <td>0</td>\n",
       "    </tr>\n",
       "  </tbody>\n",
       "</table>\n",
       "</div>"
      ],
      "text/plain": [
       "              PatientId  AppointmentID Gender              ScheduledDay  \\\n",
       "11094     5729293421352        5689855      F 2016-05-12 09:07:21+00:00   \n",
       "10127     1151925176216        5705030      F 2016-05-16 17:31:14+00:00   \n",
       "37397   927641864538845        5662021      F 2016-05-05 08:00:55+00:00   \n",
       "39809    53131563221741        5737861      F 2016-05-25 10:08:50+00:00   \n",
       "83237      937916612972        5591330      F 2016-04-15 16:38:52+00:00   \n",
       "12956    84632516348559        5690799      F 2016-05-12 10:41:36+00:00   \n",
       "86708    61895293545899        5748590      M 2016-05-31 07:09:52+00:00   \n",
       "93243    66112933474331        5771106      F 2016-06-03 11:33:10+00:00   \n",
       "80393      976857628423        5732296      M 2016-05-24 11:17:08+00:00   \n",
       "17412   143861688869361        5722009      M 2016-05-20 06:59:04+00:00   \n",
       "90755     3926526611816        5787609      F 2016-06-08 10:15:35+00:00   \n",
       "53434    48324575874555        5670640      M 2016-05-06 14:19:12+00:00   \n",
       "26919   125181516319148        5750928      F 2016-05-31 09:29:27+00:00   \n",
       "47559    13485728741465        5625340      M 2016-04-27 07:08:52+00:00   \n",
       "30927    24499889979657        5681320      M 2016-05-10 14:04:47+00:00   \n",
       "50074      318316994292        5674162      F 2016-05-09 10:31:26+00:00   \n",
       "106907    1131772254775        5716403      M 2016-05-18 16:51:19+00:00   \n",
       "98073   614343448988718        5753822      F 2016-05-31 14:52:55+00:00   \n",
       "44323   299778815147872        5482966      M 2016-03-17 10:35:31+00:00   \n",
       "101176   42243679566661        5746175      M 2016-05-30 13:33:20+00:00   \n",
       "\n",
       "                  AppointmentDay  Age        Neighbourhood  Scholarship  \\\n",
       "11094  2016-05-30 00:00:00+00:00   25          RESISTÊNCIA            1   \n",
       "10127  2016-05-19 00:00:00+00:00   81           CRUZAMENTO            0   \n",
       "37397  2016-05-05 00:00:00+00:00    0                ROMÃO            0   \n",
       "39809  2016-05-25 00:00:00+00:00    9               JABOUR            0   \n",
       "83237  2016-05-03 00:00:00+00:00   19              ITARARÉ            0   \n",
       "12956  2016-05-18 00:00:00+00:00   34  ILHA DE SANTA MARIA            0   \n",
       "86708  2016-06-06 00:00:00+00:00   54             DA PENHA            0   \n",
       "93243  2016-06-03 00:00:00+00:00    3             SÃO JOSÉ            0   \n",
       "80393  2016-05-30 00:00:00+00:00   44          SANTO ANDRÉ            0   \n",
       "17412  2016-05-30 00:00:00+00:00    8          SANTO ANDRÉ            0   \n",
       "90755  2016-06-08 00:00:00+00:00   51      JARDIM DA PENHA            0   \n",
       "53434  2016-05-06 00:00:00+00:00   15       JARDIM CAMBURI            0   \n",
       "26919  2016-05-31 00:00:00+00:00   41       FORTE SÃO JOÃO            0   \n",
       "47559  2016-05-09 00:00:00+00:00   71           DE LOURDES            0   \n",
       "30927  2016-05-25 00:00:00+00:00   67          SANTA CLARA            0   \n",
       "50074  2016-05-09 00:00:00+00:00   19      JARDIM DA PENHA            0   \n",
       "106907 2016-06-02 00:00:00+00:00   33               BONFIM            0   \n",
       "98073  2016-06-07 00:00:00+00:00    7       BENTO FERREIRA            0   \n",
       "44323  2016-05-13 00:00:00+00:00   23       JARDIM CAMBURI            0   \n",
       "101176 2016-06-07 00:00:00+00:00   36              ITARARÉ            0   \n",
       "\n",
       "        Hipertension  Diabetes  Alcoholism  Handcap  SMS_received Show  \n",
       "11094              0         0           0        0             1    0  \n",
       "10127              1         0           0        0             0    1  \n",
       "37397              0         0           0        0             0    1  \n",
       "39809              0         0           0        0             0    0  \n",
       "83237              0         0           0        0             1    1  \n",
       "12956              0         0           0        0             0    1  \n",
       "86708              0         0           0        0             1    1  \n",
       "93243              0         0           0        0             0    1  \n",
       "80393              1         0           0        0             1    1  \n",
       "17412              0         0           0        0             0    0  \n",
       "90755              1         0           0        0             0    1  \n",
       "53434              0         0           0        0             0    0  \n",
       "26919              0         0           0        0             0    1  \n",
       "47559              0         0           0        0             0    1  \n",
       "30927              1         1           0        0             0    0  \n",
       "50074              0         0           0        0             0    1  \n",
       "106907             0         0           0        0             1    0  \n",
       "98073              0         0           0        0             1    1  \n",
       "44323              0         0           0        0             0    1  \n",
       "101176             0         0           1        0             1    0  "
      ]
     },
     "execution_count": 14,
     "metadata": {},
     "output_type": "execute_result"
    }
   ],
   "source": [
    "df.sample(20)"
   ]
  },
  {
   "cell_type": "code",
   "execution_count": 70,
   "metadata": {},
   "outputs": [],
   "source": [
    "df['Show']= df['Show'].astype('int64')"
   ]
  },
  {
   "cell_type": "code",
   "execution_count": 80,
   "metadata": {},
   "outputs": [],
   "source": [
    "df['Show']= df['Show'].astype('bool')"
   ]
  },
  {
   "cell_type": "code",
   "execution_count": 17,
   "metadata": {},
   "outputs": [
    {
     "name": "stdout",
     "output_type": "stream",
     "text": [
      "<class 'pandas.core.frame.DataFrame'>\n",
      "RangeIndex: 110527 entries, 0 to 110526\n",
      "Data columns (total 14 columns):\n",
      " #   Column          Non-Null Count   Dtype              \n",
      "---  ------          --------------   -----              \n",
      " 0   PatientId       110527 non-null  int64              \n",
      " 1   AppointmentID   110527 non-null  int64              \n",
      " 2   Gender          110527 non-null  category           \n",
      " 3   ScheduledDay    110527 non-null  datetime64[ns, UTC]\n",
      " 4   AppointmentDay  110527 non-null  datetime64[ns, UTC]\n",
      " 5   Age             110527 non-null  int64              \n",
      " 6   Neighbourhood   110527 non-null  object             \n",
      " 7   Scholarship     110527 non-null  int64              \n",
      " 8   Hipertension    110527 non-null  int64              \n",
      " 9   Diabetes        110527 non-null  int64              \n",
      " 10  Alcoholism      110527 non-null  int64              \n",
      " 11  Handcap         110527 non-null  int64              \n",
      " 12  SMS_received    110527 non-null  int64              \n",
      " 13  Show            110527 non-null  bool               \n",
      "dtypes: bool(1), category(1), datetime64[ns, UTC](2), int64(9), object(1)\n",
      "memory usage: 9.9+ MB\n"
     ]
    }
   ],
   "source": [
    "df.info()"
   ]
  },
  {
   "cell_type": "code",
   "execution_count": 18,
   "metadata": {},
   "outputs": [],
   "source": [
    "df_clean = df.copy()"
   ]
  },
  {
   "cell_type": "code",
   "execution_count": 19,
   "metadata": {},
   "outputs": [
    {
     "data": {
      "text/html": [
       "<div>\n",
       "<style scoped>\n",
       "    .dataframe tbody tr th:only-of-type {\n",
       "        vertical-align: middle;\n",
       "    }\n",
       "\n",
       "    .dataframe tbody tr th {\n",
       "        vertical-align: top;\n",
       "    }\n",
       "\n",
       "    .dataframe thead th {\n",
       "        text-align: right;\n",
       "    }\n",
       "</style>\n",
       "<table border=\"1\" class=\"dataframe\">\n",
       "  <thead>\n",
       "    <tr style=\"text-align: right;\">\n",
       "      <th></th>\n",
       "      <th>PatientId</th>\n",
       "      <th>AppointmentID</th>\n",
       "      <th>Gender</th>\n",
       "      <th>ScheduledDay</th>\n",
       "      <th>AppointmentDay</th>\n",
       "      <th>Age</th>\n",
       "      <th>Neighbourhood</th>\n",
       "      <th>Scholarship</th>\n",
       "      <th>Hipertension</th>\n",
       "      <th>Diabetes</th>\n",
       "      <th>Alcoholism</th>\n",
       "      <th>Handcap</th>\n",
       "      <th>SMS_received</th>\n",
       "      <th>Show</th>\n",
       "    </tr>\n",
       "  </thead>\n",
       "  <tbody>\n",
       "    <tr>\n",
       "      <th>49698</th>\n",
       "      <td>266124245513685</td>\n",
       "      <td>5572014</td>\n",
       "      <td>M</td>\n",
       "      <td>2016-04-12 09:55:43+00:00</td>\n",
       "      <td>2016-05-12 00:00:00+00:00</td>\n",
       "      <td>43</td>\n",
       "      <td>SANTA CLARA</td>\n",
       "      <td>0</td>\n",
       "      <td>0</td>\n",
       "      <td>0</td>\n",
       "      <td>1</td>\n",
       "      <td>0</td>\n",
       "      <td>0</td>\n",
       "      <td>False</td>\n",
       "    </tr>\n",
       "    <tr>\n",
       "      <th>57097</th>\n",
       "      <td>981892517522369</td>\n",
       "      <td>5615638</td>\n",
       "      <td>F</td>\n",
       "      <td>2016-04-25 12:47:55+00:00</td>\n",
       "      <td>2016-05-05 00:00:00+00:00</td>\n",
       "      <td>9</td>\n",
       "      <td>CENTRO</td>\n",
       "      <td>0</td>\n",
       "      <td>0</td>\n",
       "      <td>0</td>\n",
       "      <td>0</td>\n",
       "      <td>0</td>\n",
       "      <td>1</td>\n",
       "      <td>True</td>\n",
       "    </tr>\n",
       "    <tr>\n",
       "      <th>71784</th>\n",
       "      <td>48738739562464</td>\n",
       "      <td>5720355</td>\n",
       "      <td>F</td>\n",
       "      <td>2016-05-19 13:43:43+00:00</td>\n",
       "      <td>2016-05-19 00:00:00+00:00</td>\n",
       "      <td>59</td>\n",
       "      <td>PRAIA DO CANTO</td>\n",
       "      <td>0</td>\n",
       "      <td>0</td>\n",
       "      <td>0</td>\n",
       "      <td>0</td>\n",
       "      <td>0</td>\n",
       "      <td>0</td>\n",
       "      <td>True</td>\n",
       "    </tr>\n",
       "    <tr>\n",
       "      <th>63791</th>\n",
       "      <td>6484836689559</td>\n",
       "      <td>5736846</td>\n",
       "      <td>M</td>\n",
       "      <td>2016-05-25 08:50:19+00:00</td>\n",
       "      <td>2016-05-30 00:00:00+00:00</td>\n",
       "      <td>10</td>\n",
       "      <td>PRAIA DO SUÁ</td>\n",
       "      <td>0</td>\n",
       "      <td>0</td>\n",
       "      <td>0</td>\n",
       "      <td>0</td>\n",
       "      <td>0</td>\n",
       "      <td>1</td>\n",
       "      <td>False</td>\n",
       "    </tr>\n",
       "    <tr>\n",
       "      <th>88601</th>\n",
       "      <td>2743744783969</td>\n",
       "      <td>5715911</td>\n",
       "      <td>F</td>\n",
       "      <td>2016-05-18 15:25:31+00:00</td>\n",
       "      <td>2016-06-08 00:00:00+00:00</td>\n",
       "      <td>10</td>\n",
       "      <td>INHANGUETÁ</td>\n",
       "      <td>0</td>\n",
       "      <td>0</td>\n",
       "      <td>0</td>\n",
       "      <td>0</td>\n",
       "      <td>0</td>\n",
       "      <td>1</td>\n",
       "      <td>True</td>\n",
       "    </tr>\n",
       "    <tr>\n",
       "      <th>24552</th>\n",
       "      <td>497856665933926</td>\n",
       "      <td>5729551</td>\n",
       "      <td>F</td>\n",
       "      <td>2016-05-24 07:37:08+00:00</td>\n",
       "      <td>2016-05-31 00:00:00+00:00</td>\n",
       "      <td>73</td>\n",
       "      <td>TABUAZEIRO</td>\n",
       "      <td>0</td>\n",
       "      <td>1</td>\n",
       "      <td>0</td>\n",
       "      <td>0</td>\n",
       "      <td>0</td>\n",
       "      <td>1</td>\n",
       "      <td>True</td>\n",
       "    </tr>\n",
       "    <tr>\n",
       "      <th>51702</th>\n",
       "      <td>38535488144391</td>\n",
       "      <td>5715318</td>\n",
       "      <td>M</td>\n",
       "      <td>2016-05-18 14:06:09+00:00</td>\n",
       "      <td>2016-05-19 00:00:00+00:00</td>\n",
       "      <td>0</td>\n",
       "      <td>FONTE GRANDE</td>\n",
       "      <td>0</td>\n",
       "      <td>0</td>\n",
       "      <td>0</td>\n",
       "      <td>0</td>\n",
       "      <td>0</td>\n",
       "      <td>0</td>\n",
       "      <td>True</td>\n",
       "    </tr>\n",
       "    <tr>\n",
       "      <th>56534</th>\n",
       "      <td>6288745818135</td>\n",
       "      <td>5619955</td>\n",
       "      <td>F</td>\n",
       "      <td>2016-04-26 08:30:17+00:00</td>\n",
       "      <td>2016-05-06 00:00:00+00:00</td>\n",
       "      <td>39</td>\n",
       "      <td>ITARARÉ</td>\n",
       "      <td>0</td>\n",
       "      <td>0</td>\n",
       "      <td>0</td>\n",
       "      <td>0</td>\n",
       "      <td>0</td>\n",
       "      <td>0</td>\n",
       "      <td>False</td>\n",
       "    </tr>\n",
       "    <tr>\n",
       "      <th>64007</th>\n",
       "      <td>23754984958597</td>\n",
       "      <td>5739814</td>\n",
       "      <td>M</td>\n",
       "      <td>2016-05-25 14:10:29+00:00</td>\n",
       "      <td>2016-05-30 00:00:00+00:00</td>\n",
       "      <td>50</td>\n",
       "      <td>ANDORINHAS</td>\n",
       "      <td>0</td>\n",
       "      <td>0</td>\n",
       "      <td>1</td>\n",
       "      <td>0</td>\n",
       "      <td>0</td>\n",
       "      <td>0</td>\n",
       "      <td>True</td>\n",
       "    </tr>\n",
       "    <tr>\n",
       "      <th>107493</th>\n",
       "      <td>56435859996522</td>\n",
       "      <td>5785143</td>\n",
       "      <td>M</td>\n",
       "      <td>2016-06-08 07:03:59+00:00</td>\n",
       "      <td>2016-06-08 00:00:00+00:00</td>\n",
       "      <td>60</td>\n",
       "      <td>GOIABEIRAS</td>\n",
       "      <td>0</td>\n",
       "      <td>0</td>\n",
       "      <td>0</td>\n",
       "      <td>0</td>\n",
       "      <td>0</td>\n",
       "      <td>0</td>\n",
       "      <td>True</td>\n",
       "    </tr>\n",
       "  </tbody>\n",
       "</table>\n",
       "</div>"
      ],
      "text/plain": [
       "              PatientId  AppointmentID Gender              ScheduledDay  \\\n",
       "49698   266124245513685        5572014      M 2016-04-12 09:55:43+00:00   \n",
       "57097   981892517522369        5615638      F 2016-04-25 12:47:55+00:00   \n",
       "71784    48738739562464        5720355      F 2016-05-19 13:43:43+00:00   \n",
       "63791     6484836689559        5736846      M 2016-05-25 08:50:19+00:00   \n",
       "88601     2743744783969        5715911      F 2016-05-18 15:25:31+00:00   \n",
       "24552   497856665933926        5729551      F 2016-05-24 07:37:08+00:00   \n",
       "51702    38535488144391        5715318      M 2016-05-18 14:06:09+00:00   \n",
       "56534     6288745818135        5619955      F 2016-04-26 08:30:17+00:00   \n",
       "64007    23754984958597        5739814      M 2016-05-25 14:10:29+00:00   \n",
       "107493   56435859996522        5785143      M 2016-06-08 07:03:59+00:00   \n",
       "\n",
       "                  AppointmentDay  Age   Neighbourhood  Scholarship  \\\n",
       "49698  2016-05-12 00:00:00+00:00   43     SANTA CLARA            0   \n",
       "57097  2016-05-05 00:00:00+00:00    9          CENTRO            0   \n",
       "71784  2016-05-19 00:00:00+00:00   59  PRAIA DO CANTO            0   \n",
       "63791  2016-05-30 00:00:00+00:00   10    PRAIA DO SUÁ            0   \n",
       "88601  2016-06-08 00:00:00+00:00   10      INHANGUETÁ            0   \n",
       "24552  2016-05-31 00:00:00+00:00   73      TABUAZEIRO            0   \n",
       "51702  2016-05-19 00:00:00+00:00    0    FONTE GRANDE            0   \n",
       "56534  2016-05-06 00:00:00+00:00   39         ITARARÉ            0   \n",
       "64007  2016-05-30 00:00:00+00:00   50      ANDORINHAS            0   \n",
       "107493 2016-06-08 00:00:00+00:00   60      GOIABEIRAS            0   \n",
       "\n",
       "        Hipertension  Diabetes  Alcoholism  Handcap  SMS_received   Show  \n",
       "49698              0         0           1        0             0  False  \n",
       "57097              0         0           0        0             1   True  \n",
       "71784              0         0           0        0             0   True  \n",
       "63791              0         0           0        0             1  False  \n",
       "88601              0         0           0        0             1   True  \n",
       "24552              1         0           0        0             1   True  \n",
       "51702              0         0           0        0             0   True  \n",
       "56534              0         0           0        0             0  False  \n",
       "64007              0         1           0        0             0   True  \n",
       "107493             0         0           0        0             0   True  "
      ]
     },
     "execution_count": 19,
     "metadata": {},
     "output_type": "execute_result"
    }
   ],
   "source": [
    "df_clean.sample(10)"
   ]
  },
  {
   "cell_type": "markdown",
   "metadata": {},
   "source": [
    "### What factors are important for us to know in order to predict if a patient will show up for their scheduled appointment?"
   ]
  },
  {
   "cell_type": "code",
   "execution_count": 21,
   "metadata": {},
   "outputs": [],
   "source": [
    "# Continue to explore the data to address your additional research\n",
    "#   questions. Add more headers as needed if you have more questions to\n",
    "#   investigate.\n"
   ]
  },
  {
   "cell_type": "code",
   "execution_count": 20,
   "metadata": {},
   "outputs": [],
   "source": [
    "Showed = df_clean['Show'] == 1\n",
    "Not_Showed = df_clean['Show'] == 0\n"
   ]
  },
  {
   "cell_type": "markdown",
   "metadata": {},
   "source": [
    "### Analysing the effect of  being enrolled in Brasilian welfare program."
   ]
  },
  {
   "cell_type": "code",
   "execution_count": 120,
   "metadata": {},
   "outputs": [
    {
     "data": {
      "image/png": "[encoded data removed]",
      "text/plain": [
       "<Figure size 432x288 with 1 Axes>"
      ]
     },
     "metadata": {
      "needs_background": "light"
     },
     "output_type": "display_data"
    }
   ],
   "source": [
    "df.Scholarship[Showed].hist(alpha=0.5, label='Showed')\n",
    "df.Scholarship[Not_Showed].hist(alpha=0.5, label=\"Didn't Show\")\n",
    "plt.title('Relationship Between Scholaship and Attendance')\n",
    "plt.xlabel('Scholaship')\n",
    "plt.ylabel('Number of Attendance/Absences')\n",
    "plt.legend();"
   ]
  },
  {
   "cell_type": "code",
   "execution_count": 22,
   "metadata": {},
   "outputs": [
    {
     "data": {
      "text/plain": [
       "Scholarship  Show \n",
       "0            True     79925\n",
       "             False    19741\n",
       "1            True      8283\n",
       "             False     2578\n",
       "Name: Show, dtype: int64"
      ]
     },
     "execution_count": 22,
     "metadata": {},
     "output_type": "execute_result"
    }
   ],
   "source": [
    "df_clean.groupby(['Scholarship'])['Show'].value_counts()"
   ]
  },
  {
   "cell_type": "code",
   "execution_count": 23,
   "metadata": {},
   "outputs": [
    {
     "data": {
      "text/plain": [
       "Scholarship  Show \n",
       "0            True     0.801928\n",
       "             False    0.198072\n",
       "Name: Show, dtype: float64"
      ]
     },
     "execution_count": 23,
     "metadata": {},
     "output_type": "execute_result"
    }
   ],
   "source": [
    "df_clean.query(\"Scholarship == 0\").groupby('Scholarship')['Show'].value_counts()/len(df[df['Scholarship'] == 0])"
   ]
  },
  {
   "cell_type": "code",
   "execution_count": 24,
   "metadata": {},
   "outputs": [
    {
     "data": {
      "image/png": "[encoded data removed]",
      "text/plain": [
       "<Figure size 432x288 with 1 Axes>"
      ]
     },
     "metadata": {},
     "output_type": "display_data"
    }
   ],
   "source": [
    "df_clean.query(\"Scholarship == 0\").groupby('Scholarship')['Show'].value_counts().plot(kind='pie', label='No Scholarship');"
   ]
  },
  {
   "cell_type": "code",
   "execution_count": 26,
   "metadata": {},
   "outputs": [
    {
     "data": {
      "image/png": "[encoded data removed]",
      "text/plain": [
       "<Figure size 432x288 with 1 Axes>"
      ]
     },
     "metadata": {},
     "output_type": "display_data"
    }
   ],
   "source": [
    "df_clean.query(\"Scholarship == 1\").groupby('Scholarship')['Show'].value_counts().plot(kind='pie', label='With Scholarship');"
   ]
  },
  {
   "cell_type": "markdown",
   "metadata": {},
   "source": [
    "#### We can see that the No-show up cases between the patients who were enrolled in the Barzillian welfare is found to be around 23.7% which is higher than those who weren't enrolled in the program which was found to be around 19.8%."
   ]
  },
  {
   "cell_type": "markdown",
   "metadata": {},
   "source": [
    "### The effect of Age of Showing up to Appointments"
   ]
  },
  {
   "cell_type": "code",
   "execution_count": 119,
   "metadata": {},
   "outputs": [
    {
     "data": {
      "image/png": "[encoded data removed]",
      "text/plain": [
       "<Figure size 432x288 with 1 Axes>"
      ]
     },
     "metadata": {
      "needs_background": "light"
     },
     "output_type": "display_data"
    }
   ],
   "source": [
    "df_clean.Age[Showed].hist(alpha=0.5, label='Showed')\n",
    "df_clean.Age[Not_Showed].hist(alpha=0.5, label=\"Didn't Show\")\n",
    "plt.title('Relationship Between Age and Attendance')\n",
    "plt.xlabel('Age')\n",
    "plt.ylabel('Number of Attendance/Absences')\n",
    "plt.legend();"
   ]
  },
  {
   "cell_type": "code",
   "execution_count": 118,
   "metadata": {},
   "outputs": [
    {
     "data": {
      "image/png": "[encoded data removed]",
      "text/plain": [
       "<Figure size 720x720 with 1 Axes>"
      ]
     },
     "metadata": {
      "needs_background": "light"
     },
     "output_type": "display_data"
    }
   ],
   "source": [
    "df_plot= df_clean.query(\"Show == False\").groupby('Age')['Show'].count()\n",
    "\n",
    "df_plot.plot(figsize=[10,10])\n",
    "plt.xticks(rotation=45)\n",
    "plt.title('Relationship Between Age and Absence')\n",
    "plt.xlabel('Age')\n",
    "plt.ylabel('Number of Absence')\n",
    "plt.show()"
   ]
  },
  {
   "cell_type": "markdown",
   "metadata": {},
   "source": [
    "#### We can clearly see the relationship between Age and Abscene of appointments as the number of abscenes go down drastically between older patients compared to young patients.\n"
   ]
  },
  {
   "cell_type": "markdown",
   "metadata": {},
   "source": [
    "### Relationship Between Gender and Showing up to Appointments."
   ]
  },
  {
   "cell_type": "code",
   "execution_count": 117,
   "metadata": {},
   "outputs": [
    {
     "data": {
      "image/png": "[encoded data removed]",
      "text/plain": [
       "<Figure size 432x288 with 1 Axes>"
      ]
     },
     "metadata": {
      "needs_background": "light"
     },
     "output_type": "display_data"
    }
   ],
   "source": [
    "df_clean.Gender[Showed].hist(alpha=0.5, label='Showed')\n",
    "df_clean.Gender[Not_Showed].hist(alpha=0.5, label=\"Didn't Show\")\n",
    "plt.title('Relationship Between Gender and Appoitnment Attendance')\n",
    "plt.xlabel('Gender')\n",
    "plt.ylabel('Number of Attendance/Absence');\n",
    "plt.legend();"
   ]
  },
  {
   "cell_type": "code",
   "execution_count": 116,
   "metadata": {},
   "outputs": [
    {
     "data": {
      "image/png": "[encoded data removed]",
      "text/plain": [
       "<Figure size 432x288 with 1 Axes>"
      ]
     },
     "metadata": {
      "needs_background": "light"
     },
     "output_type": "display_data"
    }
   ],
   "source": [
    "df_clean.query(\"Show == False\").groupby('Gender')['Show'].value_counts().plot(kind='bar');\n",
    "plt.title('Relationship Between Gender and Absence')\n",
    "plt.xlabel('Gender')\n",
    "plt.ylabel('Number of Absence');"
   ]
  },
  {
   "cell_type": "markdown",
   "metadata": {},
   "source": [
    "#### It appears to be the absences cases between females are way more than males but also the numbers of females making appointments are almost twice the males so further analysis should be carried out."
   ]
  },
  {
   "cell_type": "code",
   "execution_count": 31,
   "metadata": {},
   "outputs": [
    {
     "data": {
      "text/plain": [
       "Gender  Show \n",
       "F       True     57246\n",
       "        False    14594\n",
       "M       True     30962\n",
       "        False     7725\n",
       "Name: Show, dtype: int64"
      ]
     },
     "execution_count": 31,
     "metadata": {},
     "output_type": "execute_result"
    }
   ],
   "source": [
    "df_clean.groupby('Gender').Show.value_counts()"
   ]
  },
  {
   "cell_type": "code",
   "execution_count": 32,
   "metadata": {},
   "outputs": [
    {
     "data": {
      "text/plain": [
       "Show   Gender\n",
       "False  F         14594\n",
       "       M          7725\n",
       "True   F         57246\n",
       "       M         30962\n",
       "Name: Gender, dtype: int64"
      ]
     },
     "execution_count": 32,
     "metadata": {},
     "output_type": "execute_result"
    }
   ],
   "source": [
    "df_clean['Gender'].groupby(df_clean['Show']).value_counts()"
   ]
  },
  {
   "cell_type": "markdown",
   "metadata": {},
   "source": [
    "#### Even though it's clearly that Females make almost double the appointment as the males but in reality the No-show up cases between the females was found to be 20.3% where the males was found to be 19.9% which is almost the same as the females."
   ]
  },
  {
   "cell_type": "markdown",
   "metadata": {},
   "source": [
    "### The effect of Receiving SMS on Showing up to the appointment"
   ]
  },
  {
   "cell_type": "code",
   "execution_count": 110,
   "metadata": {},
   "outputs": [
    {
     "data": {
      "image/png": "[encoded data removed]",
      "text/plain": [
       "<Figure size 432x288 with 1 Axes>"
      ]
     },
     "metadata": {
      "needs_background": "light"
     },
     "output_type": "display_data"
    }
   ],
   "source": [
    "df_clean.SMS_received[Showed].hist(alpha=0.5, label='Showed')\n",
    "df_clean.SMS_received[Not_Showed].hist(alpha=0.5, label=\"Didn't Show\")\n",
    "plt.title('Relationship Between SMS_received and Appointments Attented')\n",
    "plt.xlabel('SMS_received')\n",
    "plt.ylabel('Number of Attendance/Absence')\n",
    "plt.legend();"
   ]
  },
  {
   "cell_type": "code",
   "execution_count": 109,
   "metadata": {},
   "outputs": [
    {
     "data": {
      "text/plain": [
       "Text(0, 0.5, 'Number of Absence')"
      ]
     },
     "execution_count": 109,
     "metadata": {},
     "output_type": "execute_result"
    },
    {
     "data": {
      "image/png": "[encoded data removed]",
      "text/plain": [
       "<Figure size 432x288 with 1 Axes>"
      ]
     },
     "metadata": {
      "needs_background": "light"
     },
     "output_type": "display_data"
    }
   ],
   "source": [
    "df_clean.query(\"Show == False\").groupby('SMS_received')['Show'].value_counts().plot(kind='bar');\n",
    "plt.title('Relationship Between SMS_received and Absene')\n",
    "plt.xlabel('SMS_received')\n",
    "plt.ylabel('Number of Absence')"
   ]
  },
  {
   "cell_type": "markdown",
   "metadata": {},
   "source": [
    "#### The number of absences between patients who recieved SMS are more than the patients who didn't receive any SMS prior to the date of appointment."
   ]
  },
  {
   "cell_type": "code",
   "execution_count": 35,
   "metadata": {},
   "outputs": [
    {
     "data": {
      "image/png": "[encoded data removed]",
      "text/plain": [
       "<Figure size 432x288 with 1 Axes>"
      ]
     },
     "metadata": {},
     "output_type": "display_data"
    }
   ],
   "source": [
    "df_clean.query(\"SMS_received == 0\").groupby('SMS_received')['Show'].value_counts().plot(kind='pie', label='No SMS received');"
   ]
  },
  {
   "cell_type": "code",
   "execution_count": 36,
   "metadata": {},
   "outputs": [
    {
     "data": {
      "image/png": "[encoded data removed]",
      "text/plain": [
       "<Figure size 432x288 with 1 Axes>"
      ]
     },
     "metadata": {},
     "output_type": "display_data"
    }
   ],
   "source": [
    "df_clean.query(\"SMS_received == 1\").groupby('SMS_received')['Show'].value_counts().plot(kind='pie', label='SMS received');"
   ]
  },
  {
   "cell_type": "markdown",
   "metadata": {},
   "source": [
    "#### We can see that the No-show up cases between the patients who received SMS reminder is higher -27.5%- than those who didn't receive SMS reminder -16.7%-"
   ]
  },
  {
   "cell_type": "markdown",
   "metadata": {},
   "source": [
    "### Relationship between Hipertension and Showing up to appointments."
   ]
  },
  {
   "cell_type": "code",
   "execution_count": 37,
   "metadata": {},
   "outputs": [
    {
     "data": {
      "text/plain": [
       "Show   Hipertension\n",
       "False  0               18547\n",
       "       1                3772\n",
       "True   0               70179\n",
       "       1               18029\n",
       "Name: Hipertension, dtype: int64"
      ]
     },
     "execution_count": 37,
     "metadata": {},
     "output_type": "execute_result"
    }
   ],
   "source": [
    "df_clean['Hipertension'].groupby(df_clean['Show']).value_counts()"
   ]
  },
  {
   "cell_type": "code",
   "execution_count": 107,
   "metadata": {},
   "outputs": [
    {
     "data": {
      "text/plain": [
       "Text(0, 0.5, 'Number of Abscence')"
      ]
     },
     "execution_count": 107,
     "metadata": {},
     "output_type": "execute_result"
    },
    {
     "data": {
      "image/png": "[encoded data removed]",
      "text/plain": [
       "<Figure size 432x288 with 1 Axes>"
      ]
     },
     "metadata": {
      "needs_background": "light"
     },
     "output_type": "display_data"
    }
   ],
   "source": [
    "df_clean.query(\"Show == False\").groupby('Hipertension')['Show'].value_counts().plot(kind='bar');\n",
    "plt.title('Relationship Between Hipertension and Absence')\n",
    "plt.xlabel('Hipertension')\n",
    "plt.ylabel('Number of Absence')"
   ]
  },
  {
   "cell_type": "markdown",
   "metadata": {},
   "source": [
    "#### The number of absences between Non-Hipertension patients is way more the patients with Hipertension."
   ]
  },
  {
   "cell_type": "code",
   "execution_count": 39,
   "metadata": {},
   "outputs": [
    {
     "data": {
      "image/png": "[encoded data removed]",
      "text/plain": [
       "<Figure size 432x288 with 1 Axes>"
      ]
     },
     "metadata": {},
     "output_type": "display_data"
    }
   ],
   "source": [
    "df_clean.query(\"Hipertension == 0\").groupby('Hipertension')['Show'].value_counts().plot(kind='pie', label='No Hipertension');"
   ]
  },
  {
   "cell_type": "code",
   "execution_count": 40,
   "metadata": {},
   "outputs": [
    {
     "data": {
      "image/png": "[encoded data removed]",
      "text/plain": [
       "<Figure size 432x288 with 1 Axes>"
      ]
     },
     "metadata": {},
     "output_type": "display_data"
    }
   ],
   "source": [
    "df_clean.query(\"Hipertension == 1\").groupby('Hipertension')['Show'].value_counts().plot(kind='pie', label='Hipertension');"
   ]
  },
  {
   "cell_type": "markdown",
   "metadata": {},
   "source": [
    "#### No-Show up cases between hipertension patients was found to be around 17.3% which is slightly lower than the cases between No- Hipertension patients which was found to be around 20.1% cases."
   ]
  },
  {
   "cell_type": "markdown",
   "metadata": {},
   "source": [
    "### Relationship between Diabetes and Showing up to Appointments."
   ]
  },
  {
   "cell_type": "code",
   "execution_count": 41,
   "metadata": {},
   "outputs": [
    {
     "data": {
      "text/plain": [
       "Show   Diabetes\n",
       "False  0           20889\n",
       "       1            1430\n",
       "True   0           81695\n",
       "       1            6513\n",
       "Name: Diabetes, dtype: int64"
      ]
     },
     "execution_count": 41,
     "metadata": {},
     "output_type": "execute_result"
    }
   ],
   "source": [
    "df_clean['Diabetes'].groupby(df_clean['Show']).value_counts()"
   ]
  },
  {
   "cell_type": "code",
   "execution_count": 111,
   "metadata": {},
   "outputs": [
    {
     "data": {
      "text/plain": [
       "Text(0, 0.5, 'Number of Absence')"
      ]
     },
     "execution_count": 111,
     "metadata": {},
     "output_type": "execute_result"
    },
    {
     "data": {
      "image/png": "[encoded data removed]",
      "text/plain": [
       "<Figure size 432x288 with 1 Axes>"
      ]
     },
     "metadata": {
      "needs_background": "light"
     },
     "output_type": "display_data"
    }
   ],
   "source": [
    "df_clean.query(\"Show == False\").groupby('Diabetes')['Show'].value_counts().plot(kind='bar');\n",
    "plt.title('Relationship Between Diabetes and Absence')\n",
    "plt.xlabel('Diabetes')\n",
    "plt.ylabel('Number of Absence')"
   ]
  },
  {
   "cell_type": "markdown",
   "metadata": {},
   "source": [
    "#### As expected the number of absences between Diabetes patients is extremely low due to the fact that diabetes can lead to other health complications and diabetes patients should be aware and always getting check-ups and such."
   ]
  },
  {
   "cell_type": "code",
   "execution_count": 43,
   "metadata": {},
   "outputs": [
    {
     "data": {
      "image/png": "[encoded data removed]",
      "text/plain": [
       "<Figure size 432x288 with 1 Axes>"
      ]
     },
     "metadata": {},
     "output_type": "display_data"
    }
   ],
   "source": [
    "df_clean.query(\"Diabetes == 0\").groupby('Diabetes')['Show'].value_counts().plot(kind='pie', label='Non- Diabetic');"
   ]
  },
  {
   "cell_type": "code",
   "execution_count": 44,
   "metadata": {},
   "outputs": [
    {
     "data": {
      "image/png": "[encoded data removed]",
      "text/plain": [
       "<Figure size 432x288 with 1 Axes>"
      ]
     },
     "metadata": {},
     "output_type": "display_data"
    }
   ],
   "source": [
    "df_clean.query(\"Diabetes == 1\").groupby('Diabetes')['Show'].value_counts().plot(kind='pie', label='Diabetic');"
   ]
  },
  {
   "cell_type": "markdown",
   "metadata": {},
   "source": [
    "#### No-Show up cases between diabetis patients was found to be around 18% which is slightly lower than the cases between No- Diabtis patients which was found to be around 20.3% cases."
   ]
  },
  {
   "cell_type": "markdown",
   "metadata": {},
   "source": [
    "### Relationship between Alcoholism and Showing up to Appointments."
   ]
  },
  {
   "cell_type": "code",
   "execution_count": 45,
   "metadata": {},
   "outputs": [
    {
     "data": {
      "text/plain": [
       "Alcoholism  Show \n",
       "0           True     85525\n",
       "            False    21642\n",
       "1           True      2683\n",
       "            False      677\n",
       "Name: Show, dtype: int64"
      ]
     },
     "execution_count": 45,
     "metadata": {},
     "output_type": "execute_result"
    }
   ],
   "source": [
    "df_clean.groupby(['Alcoholism'])['Show'].value_counts()"
   ]
  },
  {
   "cell_type": "code",
   "execution_count": 47,
   "metadata": {},
   "outputs": [
    {
     "data": {
      "text/plain": [
       "Show   Alcoholism\n",
       "False  0             21642\n",
       "       1               677\n",
       "True   0             85525\n",
       "       1              2683\n",
       "Name: Alcoholism, dtype: int64"
      ]
     },
     "execution_count": 47,
     "metadata": {},
     "output_type": "execute_result"
    }
   ],
   "source": [
    "df_clean['Alcoholism'].groupby(df_clean['Show']).value_counts()"
   ]
  },
  {
   "cell_type": "code",
   "execution_count": 112,
   "metadata": {},
   "outputs": [
    {
     "data": {
      "image/png": "[encoded data removed]",
      "text/plain": [
       "<Figure size 432x288 with 1 Axes>"
      ]
     },
     "metadata": {
      "needs_background": "light"
     },
     "output_type": "display_data"
    }
   ],
   "source": [
    "df_clean.query(\"Show == False\").groupby('Alcoholism')['Show'].value_counts().plot(kind='bar');\n",
    "plt.title('Relationship Between Alcoholism and Absence')\n",
    "plt.xlabel('Alcoholism')\n",
    "plt.ylabel('Number of Absence');"
   ]
  },
  {
   "cell_type": "markdown",
   "metadata": {},
   "source": [
    "#### The number of absences between Alcoholic patients is almost non existent compared to non-alcoholism patients and one of the reason is that acoholism can lead to multpile health complications."
   ]
  },
  {
   "cell_type": "code",
   "execution_count": 50,
   "metadata": {},
   "outputs": [
    {
     "data": {
      "text/plain": [
       "Alcoholism  Show \n",
       "0           True     85525\n",
       "            False    21642\n",
       "Name: Show, dtype: int64"
      ]
     },
     "execution_count": 50,
     "metadata": {},
     "output_type": "execute_result"
    }
   ],
   "source": [
    "df_clean.query(\"Alcoholism == 0\").groupby('Alcoholism')['Show'].value_counts()"
   ]
  },
  {
   "cell_type": "code",
   "execution_count": 51,
   "metadata": {},
   "outputs": [
    {
     "data": {
      "image/png": "[encoded data removed]",
      "text/plain": [
       "<Figure size 432x288 with 1 Axes>"
      ]
     },
     "metadata": {},
     "output_type": "display_data"
    }
   ],
   "source": [
    "df_clean.query(\"Alcoholism == 0\").groupby('Alcoholism')['Show'].value_counts().plot(kind='pie', label='Non- Alcoholic');"
   ]
  },
  {
   "cell_type": "code",
   "execution_count": 52,
   "metadata": {},
   "outputs": [
    {
     "data": {
      "text/plain": [
       "Alcoholism  Show \n",
       "1           True     2683\n",
       "            False     677\n",
       "Name: Show, dtype: int64"
      ]
     },
     "execution_count": 52,
     "metadata": {},
     "output_type": "execute_result"
    }
   ],
   "source": [
    "df_clean.query(\"Alcoholism == 1\").groupby('Alcoholism')['Show'].value_counts()"
   ]
  },
  {
   "cell_type": "code",
   "execution_count": 53,
   "metadata": {},
   "outputs": [
    {
     "data": {
      "image/png": "[encoded data removed]",
      "text/plain": [
       "<Figure size 432x288 with 1 Axes>"
      ]
     },
     "metadata": {},
     "output_type": "display_data"
    }
   ],
   "source": [
    "df_clean.query(\"Alcoholism == 1\").groupby('Alcoholism')['Show'].value_counts().plot(kind='pie', label='Alcoholic');"
   ]
  },
  {
   "cell_type": "markdown",
   "metadata": {},
   "source": [
    "#### No-Show up cases between alcoholic patients was found to be around 20.1% which is almost the same the cases between Non- Alcoholic patients which was found to be around 20.2% cases."
   ]
  },
  {
   "cell_type": "markdown",
   "metadata": {},
   "source": [
    "### Relationship between Handcap and Showing up to Appointments."
   ]
  },
  {
   "cell_type": "code",
   "execution_count": 54,
   "metadata": {},
   "outputs": [
    {
     "data": {
      "text/plain": [
       "Handcap  Show \n",
       "0        True     86374\n",
       "         False    21912\n",
       "1        True      1676\n",
       "         False      366\n",
       "2        True       146\n",
       "         False       37\n",
       "3        True        10\n",
       "         False        3\n",
       "4        True         2\n",
       "         False        1\n",
       "Name: Show, dtype: int64"
      ]
     },
     "execution_count": 54,
     "metadata": {},
     "output_type": "execute_result"
    }
   ],
   "source": [
    "df_clean.groupby(['Handcap'])['Show'].value_counts()"
   ]
  },
  {
   "cell_type": "code",
   "execution_count": 113,
   "metadata": {},
   "outputs": [
    {
     "data": {
      "image/png": "[encoded data removed]",
      "text/plain": [
       "<Figure size 432x288 with 1 Axes>"
      ]
     },
     "metadata": {
      "needs_background": "light"
     },
     "output_type": "display_data"
    }
   ],
   "source": [
    "df_handcap=df_clean.query(\"Show == False\").groupby('Handcap')['Show'].value_counts()\n",
    "df_handcap.unstack().plot()\n",
    "plt.xticks(rotation=45)\n",
    "plt.title('Relationship Between Handicap and Absence')\n",
    "plt.xlabel('Handcap')\n",
    "plt.ylabel('Number of Absence');"
   ]
  },
  {
   "cell_type": "markdown",
   "metadata": {},
   "source": [
    "#### We can see the number of absences cases goes drastiaclly down from no handcap to Lv1, 2 and onward levels of handcapped patients."
   ]
  },
  {
   "cell_type": "code",
   "execution_count": 57,
   "metadata": {},
   "outputs": [
    {
     "data": {
      "image/png": "[encoded data removed]",
      "text/plain": [
       "<Figure size 432x288 with 1 Axes>"
      ]
     },
     "metadata": {},
     "output_type": "display_data"
    }
   ],
   "source": [
    "df_clean.query(\"Handcap == 0\").groupby('Handcap')['Show'].value_counts().plot(kind='pie',label='No Handcap');"
   ]
  },
  {
   "cell_type": "code",
   "execution_count": 58,
   "metadata": {},
   "outputs": [
    {
     "data": {
      "image/png": "[encoded data removed]",
      "text/plain": [
       "<Figure size 432x288 with 1 Axes>"
      ]
     },
     "metadata": {},
     "output_type": "display_data"
    }
   ],
   "source": [
    "df_clean.query(\"Handcap == 1\").groupby('Handcap')['Show'].value_counts().plot(kind='pie',label='Handcap = 1');"
   ]
  },
  {
   "cell_type": "code",
   "execution_count": 59,
   "metadata": {},
   "outputs": [
    {
     "data": {
      "image/png": "[encoded data removed]",
      "text/plain": [
       "<Figure size 432x288 with 1 Axes>"
      ]
     },
     "metadata": {},
     "output_type": "display_data"
    }
   ],
   "source": [
    "df_clean.query(\"Handcap == 2\").groupby('Handcap')['Show'].value_counts().plot(kind='pie',label='Handcap = 2');"
   ]
  },
  {
   "cell_type": "markdown",
   "metadata": {},
   "source": [
    "#### No-Show up cases between the Non-handicapped patients was found to be around 20.2% where the Lv1 Handicap was found to be around 18% and Lv2 Handicapped cases of absence where around 20%.\n",
    "#### Note: Lv 2 ,3 and 4 the sample is way to small to make the correct analysis and which means it cannot affect the No-Show cases."
   ]
  },
  {
   "cell_type": "markdown",
   "metadata": {},
   "source": [
    "<a id='conclusions'></a>\n",
    "## Conclusions\n",
    "#### What factors are important to predict if a patient will show up to thier appointment?\n",
    "        - First factor analyzed was whether or not the patient was enrolled in the welfare program. \n",
    "            We found higher percentage of absence of patient enrolled in the program than others and the reason for that\n",
    "            according to a study \" people who aren't enrolled in any healthcare are careful with making appointment \n",
    "            resulting of lesser abscence.\n",
    "            \n",
    "        - Second factor analyzed was the Gender to see if it had any impact on the abscene percentage. \n",
    "            we found out that females makes almost twice the appointments than males but regarding the appointment abscence\n",
    "                the percentage is almost the same.\n",
    "        \n",
    "        - Third Factor analyzed was receiving an SMS prior to the appointment.\n",
    "            the analysis proved that pecentage of abscence in people receiving SMS is higher than other people who didn't\n",
    "            receive SMS which means recieving SMS doesn't impact if a person will show or not since in most cases \n",
    "            the patient already decieded not to show up rather than forgetting about the appointment.\n",
    "           \n",
    "        -Fourth Factor was the Age\n",
    "            as expected the percentage of abscence between the age of 20 to 40 is higher as people of that age have lesser\n",
    "            regard to their health compared to the percentage of people older than 45 years old and even more than people \n",
    "            older than 60 years old as it's shown in previous studies that people starts to care more about their health \n",
    "            the older they grew.\n",
    "            It is noteable that patients older than 17 years old have low abscence level that is probably \n",
    "            due to the partents making the appointments and accompanying the child.\n",
    "            \n",
    "### Limitations:\n",
    "    - It was important to analyze the relationship between the area of hospital and appointment attendance but the area data\n",
    "        was lacking demographic information which can skew and mislead the analysis if it was done without that data.\n",
    "    - There wasn't clear information on whether the patient chose the appointment date or hospital did and also the exact\n",
    "        hour of the appointment was missing so analyzing humanbehavior based on lacked or vague information \n",
    "        seemed misleading."
   ]
  },
  {
   "cell_type": "markdown",
   "metadata": {},
   "source": []
  },
  {
   "cell_type": "markdown",
   "metadata": {},
   "source": []
  }
 ],
 "metadata": {
  "kernelspec": {
   "display_name": "Python 3",
   "language": "python",
   "name": "python3"
  },
  "language_info": {
   "codemirror_mode": {
    "name": "ipython",
    "version": 3
   },
   "file_extension": ".py",
   "mimetype": "text/x-python",
   "name": "python",
   "nbconvert_exporter": "python",
   "pygments_lexer": "ipython3",
   "version": "3.9.0"
  }
 },
 "nbformat": 4,
 "nbformat_minor": 2
}
